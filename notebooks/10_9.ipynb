{
 "cells": [
  {
   "cell_type": "markdown",
   "metadata": {},
   "source": [
    "ライブラリの準備"
   ]
  },
  {
   "cell_type": "code",
   "execution_count": 16,
   "metadata": {},
   "outputs": [],
   "source": [
    "import pandas as pd\n",
    "import numpy as np\n",
    "from matplotlib import pyplot as plt\n",
    "import seaborn as sns\n",
    "from sklearn.metrics import mean_squared_error\n",
    "from sklearn.preprocessing import StandardScaler\n",
    "from sklearn.model_selection import train_test_split\n",
    "from sklearn.pipeline import make_pipeline\n",
    "from sklearn.linear_model import (\n",
    "    LinearRegression,\n",
    "    Ridge,\n",
    "    Lasso\n",
    ")\n",
    "%matplotlib inline"
   ]
  },
  {
   "cell_type": "code",
   "execution_count": 3,
   "metadata": {},
   "outputs": [
    {
     "name": "stdout",
     "output_type": "stream",
     "text": [
      "The size of train is : (1460, 82)\n",
      "The size of test is : (1459, 82)\n"
     ]
    }
   ],
   "source": [
    "# データの読み込み\n",
    "train = pd.read_csv('../dataset/train.csv') #訓練データ\n",
    "test = pd.read_csv('../dataset/test.csv') #テストデータ\n",
    "# 学習データとテストデータのマージ\n",
    "train['WhatIsData'] = 'Train'\n",
    "test['WhatIsData'] = 'Test'\n",
    "test['SalePrice'] = 9999999999\n",
    "alldata = pd.concat([train,test],axis=0).reset_index(drop=True)\n",
    "print('The size of train is : ' + str(train.shape))\n",
    "print('The size of test is : ' + str(test.shape))"
   ]
  },
  {
   "cell_type": "markdown",
   "metadata": {},
   "source": [
    "欠損値の補完"
   ]
  },
  {
   "cell_type": "code",
   "execution_count": 4,
   "metadata": {},
   "outputs": [
    {
     "data": {
      "text/plain": [
       "PoolQC          1453\n",
       "MiscFeature     1406\n",
       "Alley           1369\n",
       "Fence           1179\n",
       "FireplaceQu      690\n",
       "LotFrontage      259\n",
       "GarageYrBlt       81\n",
       "GarageType        81\n",
       "GarageFinish      81\n",
       "GarageQual        81\n",
       "GarageCond        81\n",
       "BsmtFinType2      38\n",
       "BsmtExposure      38\n",
       "BsmtFinType1      37\n",
       "BsmtCond          37\n",
       "BsmtQual          37\n",
       "MasVnrArea         8\n",
       "MasVnrType         8\n",
       "Electrical         1\n",
       "dtype: int64"
      ]
     },
     "execution_count": 4,
     "metadata": {},
     "output_type": "execute_result"
    }
   ],
   "source": [
    "# 学習データの欠損状況\n",
    "train.isnull().sum()[train.isnull().sum()>0].sort_values(ascending=False)"
   ]
  },
  {
   "cell_type": "code",
   "execution_count": 5,
   "metadata": {
    "scrolled": true
   },
   "outputs": [
    {
     "data": {
      "text/plain": [
       "PoolQC          1456\n",
       "MiscFeature     1408\n",
       "Alley           1352\n",
       "Fence           1169\n",
       "FireplaceQu      730\n",
       "LotFrontage      227\n",
       "GarageYrBlt       78\n",
       "GarageCond        78\n",
       "GarageQual        78\n",
       "GarageFinish      78\n",
       "GarageType        76\n",
       "BsmtCond          45\n",
       "BsmtExposure      44\n",
       "BsmtQual          44\n",
       "BsmtFinType1      42\n",
       "BsmtFinType2      42\n",
       "MasVnrType        16\n",
       "MasVnrArea        15\n",
       "MSZoning           4\n",
       "BsmtFullBath       2\n",
       "BsmtHalfBath       2\n",
       "Utilities          2\n",
       "Functional         2\n",
       "Exterior2nd        1\n",
       "Exterior1st        1\n",
       "SaleType           1\n",
       "BsmtFinSF1         1\n",
       "BsmtFinSF2         1\n",
       "BsmtUnfSF          1\n",
       "KitchenQual        1\n",
       "GarageCars         1\n",
       "GarageArea         1\n",
       "TotalBsmtSF        1\n",
       "dtype: int64"
      ]
     },
     "execution_count": 5,
     "metadata": {},
     "output_type": "execute_result"
    }
   ],
   "source": [
    "# テストデータの欠損状況\n",
    "test.isnull().sum()[test.isnull().sum()>0].sort_values(ascending=False)"
   ]
  },
  {
   "cell_type": "markdown",
   "metadata": {},
   "source": [
    "欠損している変数が数値型なのかカテゴリカル変数なのかを把握するために、データ型も確認しておく。"
   ]
  },
  {
   "cell_type": "code",
   "execution_count": 6,
   "metadata": {},
   "outputs": [
    {
     "data": {
      "text/plain": [
       "TotalBsmtSF     float64\n",
       "BsmtUnfSF       float64\n",
       "BsmtFinSF2      float64\n",
       "BsmtFinSF1      float64\n",
       "GarageYrBlt     float64\n",
       "BsmtFullBath    float64\n",
       "GarageCars      float64\n",
       "BsmtHalfBath    float64\n",
       "GarageArea      float64\n",
       "LotFrontage     float64\n",
       "MasVnrArea      float64\n",
       "GarageQual       object\n",
       "GarageCond       object\n",
       "GarageType       object\n",
       "PoolQC           object\n",
       "FireplaceQu      object\n",
       "Fence            object\n",
       "Functional       object\n",
       "KitchenQual      object\n",
       "GarageFinish     object\n",
       "MSZoning         object\n",
       "MiscFeature      object\n",
       "BsmtFinType2     object\n",
       "BsmtFinType1     object\n",
       "BsmtExposure     object\n",
       "BsmtCond         object\n",
       "BsmtQual         object\n",
       "MasVnrType       object\n",
       "Exterior2nd      object\n",
       "Exterior1st      object\n",
       "Utilities        object\n",
       "Alley            object\n",
       "Electrical       object\n",
       "SaleType         object\n",
       "dtype: object"
      ]
     },
     "execution_count": 6,
     "metadata": {},
     "output_type": "execute_result"
    }
   ],
   "source": [
    "# 欠損を含むカラムのデータ型を確認\n",
    "na_col_list = alldata.isnull().sum()[alldata.isnull().sum()>0].index.tolist() # 欠損を含むカラムをリスト化\n",
    "alldata[na_col_list].dtypes.sort_values() #データ型"
   ]
  },
  {
   "cell_type": "code",
   "execution_count": 11,
   "metadata": {},
   "outputs": [],
   "source": [
    "# データ型に応じて欠損値を補完する\n",
    "# floatの場合は0\n",
    "# objectの場合は'NA'\n",
    "na_float_cols = alldata[na_col_list].dtypes[alldata[na_col_list].dtypes=='float64'].index.tolist() #float64\n",
    "na_obj_cols = alldata[na_col_list].dtypes[alldata[na_col_list].dtypes=='object'].index.tolist() #object\n",
    "# float64型で欠損している場合は0を代入\n",
    "for na_float_col in na_float_cols:\n",
    "    alldata.loc[alldata[na_float_col].isnull(),na_float_col] = 0.0\n",
    "# object型で欠損している場合は'NA'を代入\n",
    "for na_obj_col in na_obj_cols:\n",
    "    alldata.loc[alldata[na_obj_col].isnull(),na_obj_col] = 'NA'"
   ]
  },
  {
   "cell_type": "code",
   "execution_count": 12,
   "metadata": {},
   "outputs": [
    {
     "data": {
      "text/plain": [
       "Series([], dtype: int64)"
      ]
     },
     "execution_count": 12,
     "metadata": {},
     "output_type": "execute_result"
    }
   ],
   "source": [
    "# マージデータの欠損状況\n",
    "alldata.isnull().sum()[alldata.isnull().sum()>0].sort_values(ascending=False)\n",
    "#マージデータの欠損を確認し、全て補完されていることを確認"
   ]
  },
  {
   "cell_type": "code",
   "execution_count": 14,
   "metadata": {},
   "outputs": [],
   "source": [
    "# カテゴリカル変数の特徴量をリスト化\n",
    "cat_cols = alldata.dtypes[alldata.dtypes=='object'].index.tolist()\n",
    "# 数値変数の特徴量をリスト化\n",
    "num_cols = alldata.dtypes[alldata.dtypes!='object'].index.tolist()\n",
    "# データ分割および提出時に必要なカラムをリスト化\n",
    "other_cols = ['Id', 'WhatIsData']\n",
    "# 余計な要素をリストから削除\n",
    "cat_cols.remove('WhatIsData') #学習データ・テストデータ区別フラグ除去\n",
    "num_cols.remove('Id') # Id削除\n",
    "# カテゴリカル変数をダミー化\n",
    "alldata_cat = pd.get_dummies(alldata[cat_cols])\n",
    "# データ統合\n",
    "all_data = pd.concat([alldata[other_cols], alldata[num_cols],alldata_cat],axis=1)"
   ]
  },
  {
   "cell_type": "markdown",
   "metadata": {},
   "source": [
    "目的変数の分布変換"
   ]
  },
  {
   "cell_type": "code",
   "execution_count": 17,
   "metadata": {},
   "outputs": [
    {
     "name": "stderr",
     "output_type": "stream",
     "text": [
      "/local/home/likeda/.local/lib/python3.7/site-packages/seaborn/distributions.py:2551: FutureWarning: `distplot` is a deprecated function and will be removed in a future version. Please adapt your code to use either `displot` (a figure-level function with similar flexibility) or `histplot` (an axes-level function for histograms).\n",
      "  warnings.warn(msg, FutureWarning)\n"
     ]
    },
    {
     "data": {
      "text/plain": [
       "<matplotlib.axes._subplots.AxesSubplot at 0x7f33b8a6ed30>"
      ]
     },
     "execution_count": 17,
     "metadata": {},
     "output_type": "execute_result"
    },
    {
     "data": {
      "image/png": "[encoded data removed]",
      "text/plain": [
       "<Figure size 432x288 with 1 Axes>"
      ]
     },
     "metadata": {
      "needs_background": "light"
     },
     "output_type": "display_data"
    }
   ],
   "source": [
    "sns.distplot(train['SalePrice'])"
   ]
  },
  {
   "cell_type": "code",
   "execution_count": null,
   "metadata": {},
   "outputs": [],
   "source": [
    "対数変換をすることで正規分布に近づける！！"
   ]
  },
  {
   "cell_type": "code",
   "execution_count": 18,
   "metadata": {},
   "outputs": [
    {
     "name": "stderr",
     "output_type": "stream",
     "text": [
      "/local/home/likeda/.local/lib/python3.7/site-packages/seaborn/distributions.py:2551: FutureWarning: `distplot` is a deprecated function and will be removed in a future version. Please adapt your code to use either `displot` (a figure-level function with similar flexibility) or `histplot` (an axes-level function for histograms).\n",
      "  warnings.warn(msg, FutureWarning)\n"
     ]
    },
    {
     "data": {
      "text/plain": [
       "<matplotlib.axes._subplots.AxesSubplot at 0x7f333f3395c0>"
      ]
     },
     "execution_count": 18,
     "metadata": {},
     "output_type": "execute_result"
    },
    {
     "data": {
      "image/png": "[encoded data removed]",
      "text/plain": [
       "<Figure size 432x288 with 1 Axes>"
      ]
     },
     "metadata": {
      "needs_background": "light"
     },
     "output_type": "display_data"
    }
   ],
   "source": [
    "# 対数変換をすることで正規分布に近づける！！\n",
    "sns.distplot(np.log(train['SalePrice']))"
   ]
  },
  {
   "cell_type": "markdown",
   "metadata": {},
   "source": [
    "予測モデルの構築"
   ]
  },
  {
   "cell_type": "code",
   "execution_count": 19,
   "metadata": {},
   "outputs": [],
   "source": [
    "# 今回は変数量がかなり多いため、係数に強力なペナルティをかけたいのでLasso回帰を使って予測モデルを構築\n",
    "\n",
    "# マージデータを学習データとテストデータに分割\n",
    "train_ = all_data[all_data['WhatIsData']=='Train'].drop(['WhatIsData','Id'], axis=1).reset_index(drop=True)\n",
    "test_ = all_data[all_data['WhatIsData']=='Test'].drop(['WhatIsData','SalePrice'], axis=1).reset_index(drop=True)\n",
    "# 学習データ内の分割\n",
    "train_x = train_.drop('SalePrice',axis=1)\n",
    "train_y = np.log(train_['SalePrice'])\n",
    "# テストデータ内の分割\n",
    "test_id = test_['Id']\n",
    "test_data = test_.drop('Id',axis=1)"
   ]
  },
  {
   "cell_type": "code",
   "execution_count": 21,
   "metadata": {},
   "outputs": [
    {
     "name": "stdout",
     "output_type": "stream",
     "text": [
      "alpha : 0.01\n",
      "test score is : 0.18072873354655125\n"
     ]
    }
   ],
   "source": [
    "scaler = StandardScaler()\n",
    "param_grid = [0.001, 0.01, 0.1, 1.0, 10.0,100.0,1000.0] #パラメータグリッド\n",
    "cnt = 0\n",
    "\n",
    "for alpha in param_grid:\n",
    "    ls = Lasso(alpha=alpha) # Lasso回帰モデル\n",
    "    pipeline = make_pipeline(scaler, ls) # パイプライン生成\n",
    "    X_train, X_test, y_train, y_test = train_test_split(train_x, train_y, test_size= 0.3, random_state=0)\n",
    "    pipeline.fit(X_train, y_train)\n",
    "    train_rmse = np.sqrt(mean_squared_error(y_train, pipeline.predict(X_train)))\n",
    "    test_rmse = np.sqrt(mean_squared_error(y_test, pipeline.predict(X_test)))\n",
    "\n",
    "    if cnt == 0:\n",
    "        best_score = test_rmse\n",
    "        best_estimator = pipeline\n",
    "        best_param = alpha\n",
    "    \n",
    "    elif best_score > test_rmse:\n",
    "        best_score = test_rmse\n",
    "        best_estimator = pipeline\n",
    "        best_param = alpha\n",
    "    else:\n",
    "        pass\n",
    "    \n",
    "    cnt = cnt + 1\n",
    "\n",
    "\n",
    "print('alpha : ' + str(best_param))\n",
    "print('test score is : ' +str(best_score))\n",
    "    \n",
    "    \n",
    "    "
   ]
  },
  {
   "cell_type": "markdown",
   "metadata": {},
   "source": [
    "Lassoのパラメータα=0.01のときに汎化性能が0.18になることがわかりました。\n",
    "ちなみに汎化性能は予測結果および教師データに自然対数をかけたものに対し、\n",
    "RMSE(root mean square error)を使って算出しています。"
   ]
  },
  {
   "cell_type": "markdown",
   "metadata": {},
   "source": [
    "モデルの検証\n",
    "\n",
    "学習したモデルが実際に教師データにどれくらい近似できているのかを検証してみます。\n",
    "横軸が教師データ、縦軸が予測結果としてデータを散布します。"
   ]
  },
  {
   "cell_type": "code",
   "execution_count": 22,
   "metadata": {
    "scrolled": true
   },
   "outputs": [
    {
     "data": {
      "text/plain": [
       "<matplotlib.collections.PathCollection at 0x7f333cfa7208>"
      ]
     },
     "execution_count": 22,
     "metadata": {},
     "output_type": "execute_result"
    },
    {
     "data": {
      "image/png": "[encoded data removed]",
      "text/plain": [
       "<Figure size 432x288 with 2 Axes>"
      ]
     },
     "metadata": {
      "needs_background": "light"
     },
     "output_type": "display_data"
    }
   ],
   "source": [
    "plt.subplots_adjust(wspace=0.4)\n",
    "plt.subplot(121)\n",
    "plt.scatter(np.exp(y_train),np.exp(best_estimator.predict(X_train)))\n",
    "plt.subplot(122)\n",
    "plt.scatter(np.exp(y_test),np.exp(best_estimator.predict(X_test)))"
   ]
  },
  {
   "cell_type": "code",
   "execution_count": null,
   "metadata": {},
   "outputs": [],
   "source": [
    "左が学習データ、右がテストデータになります。\n",
    "学習データに対してはそこそこフィットしてますが、テストデータにはフィットしていないようです。\n",
    "外れ値、過学習、特徴量エンジニアリング不足などなど課題は山積ですが、いったん先へ進みます。"
   ]
  },
  {
   "cell_type": "code",
   "execution_count": null,
   "metadata": {},
   "outputs": [],
   "source": [
    "予測結果の提出\n",
    "最後に学習データ全体を使って予測モデルを再構築して予測結果を出力します。\n",
    "ここで予測結果のSalePrice(住宅価格)は対数をとった値なので、最終的にはexponentialをかけてあげる必要があります。"
   ]
  },
  {
   "cell_type": "code",
   "execution_count": 24,
   "metadata": {},
   "outputs": [],
   "source": [
    "# 提出用データ生成\n",
    "# test_id\n",
    "ls = Lasso(alpha = 0.01)\n",
    "pipeline = make_pipeline(scaler, ls)\n",
    "pipeline.fit(train_x,train_y)\n",
    "test_SalePrice = pd.DataFrame(np.exp(pipeline.predict(test_data)),columns=['SalePrice'])\n",
    "test_Id = pd.DataFrame(test_id,columns=['Id'])\n",
    "pd.concat([test_Id, test_SalePrice],axis=1).to_csv('../result/Lasso_alpha_0.01.csv',index=False)"
   ]
  }
 ],
 "metadata": {
  "kernelspec": {
   "display_name": "Python 3",
   "language": "python",
   "name": "python3"
  },
  "language_info": {
   "codemirror_mode": {
    "name": "ipython",
    "version": 3
   },
   "file_extension": ".py",
   "mimetype": "text/x-python",
   "name": "python",
   "nbconvert_exporter": "python",
   "pygments_lexer": "ipython3",
   "version": "3.7.3"
  }
 },
 "nbformat": 4,
 "nbformat_minor": 4
}
